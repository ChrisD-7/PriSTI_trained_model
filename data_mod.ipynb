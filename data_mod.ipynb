{
 "cells": [
  {
   "cell_type": "code",
   "execution_count": 1,
   "metadata": {},
   "outputs": [],
   "source": [
    "import pandas as pd\n",
    "\n",
    "# Load the original ground truth data\n",
    "ground_df = pd.read_csv('data/pm25/SampleData/pm25_ground.txt', index_col='datetime', parse_dates=True)\n",
    "missing_df = pd.read_csv('data/pm25/SampleData/pm25_missing.txt', index_col='datetime', parse_dates=True)\n",
    "latlng_df = pd.read_csv('data/pm25/SampleData/pm25_latlng.txt')\n",
    "\n",
    "# Select the first 6 columns for ground truth and missing data\n",
    "ground_df_reduced = ground_df.iloc[:, :6]\n",
    "missing_df_reduced = missing_df.iloc[:, :6]\n",
    "\n",
    "# Select the first 6 rows for latitude and longitude data\n",
    "latlng_df_reduced = latlng_df.iloc[:6, :]\n",
    "\n",
    "# Save the reduced data\n",
    "ground_df_reduced.to_csv('data/pm25/SampleData/pm25_ground_6cols.txt', index_label='datetime')\n",
    "missing_df_reduced.to_csv('data/pm25/SampleData/pm25_missing_6cols.txt', index_label='datetime')\n",
    "latlng_df_reduced.to_csv('data/pm25/SampleData/pm25_latlng_6rows.txt', index=False)"
   ]
  },
  {
   "cell_type": "code",
   "execution_count": 2,
   "metadata": {},
   "outputs": [],
   "source": [
    "import pandas as pd\n",
    "import pickle\n",
    "\n",
    "# Load the reduced ground truth data\n",
    "ground_df_reduced = pd.read_csv('data/pm25/SampleData/pm25_ground_6cols.txt', index_col='datetime', parse_dates=True)\n",
    "\n",
    "# Calculate mean and standard deviation\n",
    "train_mean = ground_df_reduced.mean().values\n",
    "train_std = ground_df_reduced.std().values\n",
    "\n",
    "# Save the mean and std deviation\n",
    "with open('data/pm25/pm25_meanstd_6cols.pk', 'wb') as f:\n",
    "    pickle.dump((train_mean, train_std), f)"
   ]
  },
  {
   "cell_type": "code",
   "execution_count": null,
   "metadata": {},
   "outputs": [],
   "source": []
  }
 ],
 "metadata": {
  "kernelspec": {
   "display_name": "pristi",
   "language": "python",
   "name": "python3"
  },
  "language_info": {
   "codemirror_mode": {
    "name": "ipython",
    "version": 3
   },
   "file_extension": ".py",
   "mimetype": "text/x-python",
   "name": "python",
   "nbconvert_exporter": "python",
   "pygments_lexer": "ipython3",
   "version": "3.9.19"
  }
 },
 "nbformat": 4,
 "nbformat_minor": 2
}
